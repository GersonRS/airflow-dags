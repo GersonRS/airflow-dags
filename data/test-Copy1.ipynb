{
 "cells": [
  {
   "cell_type": "code",
   "execution_count": 1,
   "metadata": {},
   "outputs": [],
   "source": [
    "# import libraries\n",
    "import json\n",
    "\n",
    "from pyspark import SparkConf\n",
    "from pyspark.sql import SparkSession\n",
    "from pyspark.sql.avro.functions import from_avro, to_avro\n",
    "from pyspark.sql.functions import col, current_timestamp, struct, to_json, lit"
   ]
  },
  {
   "cell_type": "code",
   "execution_count": 2,
   "metadata": {},
   "outputs": [],
   "source": [
    "def get_avro_schema(spark_df, schema_type: str, name: str, namespace: str):\n",
    "    \"\"\"\n",
    "    Returns the corresponding avro schema for the passed in spark dataframe.\n",
    "    The type mapping covers most commonly used types, every field is made to be nullable.\n",
    "    \"\"\"\n",
    "\n",
    "    schema_base = {\"type\": schema_type, \"namespace\": namespace, \"name\": name}\n",
    "\n",
    "    # Keys are Spark Types, Values are Avro Types\n",
    "    avro_mapping = {\n",
    "        \"StringType\": [\"string\", \"null\"],\n",
    "        \"LongType\": [\"long\", \"null\"],\n",
    "        \"IntegerType\": [\"int\", \"null\"],\n",
    "        \"BooleanType\": [\"boolean\", \"null\"],\n",
    "        \"FloatType\": [\"float\", \"null\"],\n",
    "        \"DoubleType\": [\"double\", \"null\"],\n",
    "        \"TimestampType\": [\"long\", \"null\"],\n",
    "        \"ArrayType(StringType,true)\": [\n",
    "            {\"type\": \"array\", \"items\": [\"string\", \"null\"]},\n",
    "            \"null\",\n",
    "        ],\n",
    "        \"ArrayType(IntegerType,true)\": [\n",
    "            {\"type\": \"array\", \"items\": [\"int\", \"null\"]},\n",
    "            \"null\",\n",
    "        ],\n",
    "    }\n",
    "\n",
    "    fields = []\n",
    "\n",
    "    for field in spark_df.schema.fields:\n",
    "        if str(field.dataType) in avro_mapping:\n",
    "            fields.append(\n",
    "                {\"name\": field.name, \"type\": avro_mapping[str(field.dataType)]}\n",
    "            )\n",
    "        else:\n",
    "            fields.append({\"name\": field.name, \"type\": str(field.dataType)})\n",
    "\n",
    "    schema_base[\"fields\"] = fields\n",
    "\n",
    "    return json.dumps(schema_base)\n",
    "def generate_avro_schema_from_json(json_data):\n",
    "    def avro_type_mapping(value):\n",
    "        if value is None:\n",
    "            return [\"string\", \"null\"]\n",
    "        elif isinstance(value, bool):\n",
    "            return [\"boolean\", \"null\"]\n",
    "        elif isinstance(value, int):\n",
    "            return [\"int\", \"null\"]\n",
    "        elif isinstance(value, float):\n",
    "            return [\"double\", \"null\"]\n",
    "        elif isinstance(value, str):\n",
    "            return [\"string\", \"null\"]\n",
    "        else:\n",
    "            return [\"string\", \"null\"]\n",
    "\n",
    "    avro_schema = {\n",
    "        \"type\": \"record\",\n",
    "        \"name\": \"Default_schema\",\n",
    "        \"fields\": [\n",
    "            {\"name\": key, \"type\": avro_type_mapping(value)}\n",
    "            for key, value in json_data.items()\n",
    "        ],\n",
    "    }\n",
    "    return avro_schema"
   ]
  },
  {
   "cell_type": "code",
   "execution_count": 3,
   "metadata": {},
   "outputs": [],
   "source": [
    "# init session\n",
    "spark = (\n",
    "    SparkSession.builder.appName(\"delivery-data-from-sap-hana-to-kafka\")\n",
    "    .config(\n",
    "        \"spark.jars.packages\",\n",
    "        \"org.postgresql:postgresql:42.7.1,\"+\n",
    "        \"com.sap.cloud.db.jdbc:ngdbc:2.19.15,\"+\n",
    "        \"org.apache.spark:spark-sql-kafka-0-10_2.12:3.5.0\",\n",
    "    )\n",
    "    .enableHiveSupport()\n",
    "    .getOrCreate()\n",
    ")"
   ]
  },
  {
   "cell_type": "code",
   "execution_count": 4,
   "metadata": {},
   "outputs": [
    {
     "data": {
      "text/plain": [
       "[('spark.files',\n",
       "  'file:///home/jovyan/.ivy2/jars/org.postgresql_postgresql-42.7.1.jar,file:///home/jovyan/.ivy2/jars/com.sap.cloud.db.jdbc_ngdbc-2.19.15.jar,file:///home/jovyan/.ivy2/jars/org.apache.spark_spark-sql-kafka-0-10_2.12-3.5.0.jar,file:///home/jovyan/.ivy2/jars/org.apache.spark_spark-avro_2.12-3.5.0.jar,file:///home/jovyan/.ivy2/jars/org.checkerframework_checker-qual-3.41.0.jar,file:///home/jovyan/.ivy2/jars/org.apache.spark_spark-token-provider-kafka-0-10_2.12-3.5.0.jar,file:///home/jovyan/.ivy2/jars/org.apache.kafka_kafka-clients-3.4.1.jar,file:///home/jovyan/.ivy2/jars/com.google.code.findbugs_jsr305-3.0.0.jar,file:///home/jovyan/.ivy2/jars/org.apache.commons_commons-pool2-2.11.1.jar,file:///home/jovyan/.ivy2/jars/org.apache.hadoop_hadoop-client-runtime-3.3.4.jar,file:///home/jovyan/.ivy2/jars/org.lz4_lz4-java-1.8.0.jar,file:///home/jovyan/.ivy2/jars/org.xerial.snappy_snappy-java-1.1.10.3.jar,file:///home/jovyan/.ivy2/jars/org.slf4j_slf4j-api-2.0.7.jar,file:///home/jovyan/.ivy2/jars/org.apache.hadoop_hadoop-client-api-3.3.4.jar,file:///home/jovyan/.ivy2/jars/commons-logging_commons-logging-1.1.3.jar,file:///home/jovyan/.ivy2/jars/org.tukaani_xz-1.9.jar'),\n",
       " ('spark.sql.catalogImplementation', 'hive'),\n",
       " ('spark.app.submitTime', '1703049520816'),\n",
       " ('spark.jars.packages',\n",
       "  'org.postgresql:postgresql:42.7.1,com.sap.cloud.db.jdbc:ngdbc:2.19.15,org.apache.spark:spark-sql-kafka-0-10_2.12:3.5.0,org.apache.spark:spark-avro_2.12:3.5.0'),\n",
       " ('spark.master', 'local[*]'),\n",
       " ('spark.submit.deployMode', 'client'),\n",
       " ('spark.jars',\n",
       "  'file:///home/jovyan/.ivy2/jars/org.postgresql_postgresql-42.7.1.jar,file:///home/jovyan/.ivy2/jars/com.sap.cloud.db.jdbc_ngdbc-2.19.15.jar,file:///home/jovyan/.ivy2/jars/org.apache.spark_spark-sql-kafka-0-10_2.12-3.5.0.jar,file:///home/jovyan/.ivy2/jars/org.apache.spark_spark-avro_2.12-3.5.0.jar,file:///home/jovyan/.ivy2/jars/org.checkerframework_checker-qual-3.41.0.jar,file:///home/jovyan/.ivy2/jars/org.apache.spark_spark-token-provider-kafka-0-10_2.12-3.5.0.jar,file:///home/jovyan/.ivy2/jars/org.apache.kafka_kafka-clients-3.4.1.jar,file:///home/jovyan/.ivy2/jars/com.google.code.findbugs_jsr305-3.0.0.jar,file:///home/jovyan/.ivy2/jars/org.apache.commons_commons-pool2-2.11.1.jar,file:///home/jovyan/.ivy2/jars/org.apache.hadoop_hadoop-client-runtime-3.3.4.jar,file:///home/jovyan/.ivy2/jars/org.lz4_lz4-java-1.8.0.jar,file:///home/jovyan/.ivy2/jars/org.xerial.snappy_snappy-java-1.1.10.3.jar,file:///home/jovyan/.ivy2/jars/org.slf4j_slf4j-api-2.0.7.jar,file:///home/jovyan/.ivy2/jars/org.apache.hadoop_hadoop-client-api-3.3.4.jar,file:///home/jovyan/.ivy2/jars/commons-logging_commons-logging-1.1.3.jar,file:///home/jovyan/.ivy2/jars/org.tukaani_xz-1.9.jar'),\n",
       " ('spark.app.name', 'delivery-data-from-sap-hana-to-kafka'),\n",
       " ('spark.ui.showConsoleProgress', 'true'),\n",
       " ('spark.submit.pyFiles',\n",
       "  '/home/jovyan/.ivy2/jars/org.postgresql_postgresql-42.7.1.jar,/home/jovyan/.ivy2/jars/com.sap.cloud.db.jdbc_ngdbc-2.19.15.jar,/home/jovyan/.ivy2/jars/org.apache.spark_spark-sql-kafka-0-10_2.12-3.5.0.jar,/home/jovyan/.ivy2/jars/org.apache.spark_spark-avro_2.12-3.5.0.jar,/home/jovyan/.ivy2/jars/org.checkerframework_checker-qual-3.41.0.jar,/home/jovyan/.ivy2/jars/org.apache.spark_spark-token-provider-kafka-0-10_2.12-3.5.0.jar,/home/jovyan/.ivy2/jars/org.apache.kafka_kafka-clients-3.4.1.jar,/home/jovyan/.ivy2/jars/com.google.code.findbugs_jsr305-3.0.0.jar,/home/jovyan/.ivy2/jars/org.apache.commons_commons-pool2-2.11.1.jar,/home/jovyan/.ivy2/jars/org.apache.hadoop_hadoop-client-runtime-3.3.4.jar,/home/jovyan/.ivy2/jars/org.lz4_lz4-java-1.8.0.jar,/home/jovyan/.ivy2/jars/org.xerial.snappy_snappy-java-1.1.10.3.jar,/home/jovyan/.ivy2/jars/org.slf4j_slf4j-api-2.0.7.jar,/home/jovyan/.ivy2/jars/org.apache.hadoop_hadoop-client-api-3.3.4.jar,/home/jovyan/.ivy2/jars/commons-logging_commons-logging-1.1.3.jar,/home/jovyan/.ivy2/jars/org.tukaani_xz-1.9.jar'),\n",
       " ('spark.repl.local.jars',\n",
       "  'file:///home/jovyan/.ivy2/jars/org.postgresql_postgresql-42.7.1.jar,file:///home/jovyan/.ivy2/jars/com.sap.cloud.db.jdbc_ngdbc-2.19.15.jar,file:///home/jovyan/.ivy2/jars/org.apache.spark_spark-sql-kafka-0-10_2.12-3.5.0.jar,file:///home/jovyan/.ivy2/jars/org.apache.spark_spark-avro_2.12-3.5.0.jar,file:///home/jovyan/.ivy2/jars/org.checkerframework_checker-qual-3.41.0.jar,file:///home/jovyan/.ivy2/jars/org.apache.spark_spark-token-provider-kafka-0-10_2.12-3.5.0.jar,file:///home/jovyan/.ivy2/jars/org.apache.kafka_kafka-clients-3.4.1.jar,file:///home/jovyan/.ivy2/jars/com.google.code.findbugs_jsr305-3.0.0.jar,file:///home/jovyan/.ivy2/jars/org.apache.commons_commons-pool2-2.11.1.jar,file:///home/jovyan/.ivy2/jars/org.apache.hadoop_hadoop-client-runtime-3.3.4.jar,file:///home/jovyan/.ivy2/jars/org.lz4_lz4-java-1.8.0.jar,file:///home/jovyan/.ivy2/jars/org.xerial.snappy_snappy-java-1.1.10.3.jar,file:///home/jovyan/.ivy2/jars/org.slf4j_slf4j-api-2.0.7.jar,file:///home/jovyan/.ivy2/jars/org.apache.hadoop_hadoop-client-api-3.3.4.jar,file:///home/jovyan/.ivy2/jars/commons-logging_commons-logging-1.1.3.jar,file:///home/jovyan/.ivy2/jars/org.tukaani_xz-1.9.jar')]"
      ]
     },
     "execution_count": 4,
     "metadata": {},
     "output_type": "execute_result"
    }
   ],
   "source": [
    "# show configured parameters\n",
    "SparkConf().getAll()"
   ]
  },
  {
   "cell_type": "code",
   "execution_count": 5,
   "metadata": {},
   "outputs": [],
   "source": [
    "# set log level\n",
    "spark.sparkContext.setLogLevel(\"INFO\")"
   ]
  },
  {
   "cell_type": "code",
   "execution_count": 6,
   "metadata": {},
   "outputs": [],
   "source": [
    "df = (\n",
    "    spark.read.format(\"jdbc\")\n",
    "    .option(\"driver\", \"org.postgresql.Driver\")\n",
    "    .option(\"url\", \"jdbc:postgresql://database:5432/database\")\n",
    "    .option(\"dbtable\", \"company\")\n",
    "    .option(\"user\", \"postgres\")\n",
    "    .option(\"password\", \"postgres\")\n",
    "    .load()\n",
    ")"
   ]
  },
  {
   "cell_type": "code",
   "execution_count": 7,
   "metadata": {},
   "outputs": [],
   "source": [
    "# df = (\n",
    "#     spark.read.format(\"jdbc\")\n",
    "#     .option(\"driver\", \"com.sap.db.jdbc.Driver\")\n",
    "#     # .option(\"url\", \"jdbc:sap://10.158.2.40:30041/HAQ\")\n",
    "#     .option(\"url\", \"jdbc:sap://10.163.9.4:30041/HAQ\")\n",
    "#     .option(\"dbtable\", \"SAPHANADB.CRCO\")\n",
    "#     .option(\"numPartitions\", 4)\n",
    "#     .option(\"user\", \"SYNAPSE_READ\")\n",
    "#     .option(\"password\", \"Syn@ps322SAP22\")\n",
    "#     .load()\n",
    "# )"
   ]
  },
  {
   "cell_type": "code",
   "execution_count": 8,
   "metadata": {},
   "outputs": [],
   "source": [
    "df_processed = (\n",
    "        df.withColumn(\"ingestion_time\", lit(current_timestamp()))\n",
    "        .withColumn(\"source_system\", lit(\"sap\"))\n",
    "        .withColumn(\"user_name\", lit(\"gersonrs\"))\n",
    "        .withColumn(\"ingestion_type\", lit(\"spark\"))\n",
    "        .withColumn(\"base_format\", lit(\"table\"))\n",
    "        .withColumn(\"rows_written\", lit(df.count()))\n",
    "        .withColumn(\"schema\", lit(df.schema.json()))\n",
    "    )"
   ]
  },
  {
   "cell_type": "code",
   "execution_count": 9,
   "metadata": {},
   "outputs": [
    {
     "name": "stdout",
     "output_type": "stream",
     "text": [
      "root\n",
      " |-- id: integer (nullable = true)\n",
      " |-- name: string (nullable = true)\n",
      " |-- age: integer (nullable = true)\n",
      " |-- address: string (nullable = true)\n",
      " |-- salary: float (nullable = true)\n",
      " |-- ingestion_time: timestamp (nullable = false)\n",
      " |-- source_system: string (nullable = false)\n",
      " |-- user_name: string (nullable = false)\n",
      " |-- ingestion_type: string (nullable = false)\n",
      " |-- base_format: string (nullable = false)\n",
      " |-- rows_written: integer (nullable = false)\n",
      " |-- schema: string (nullable = false)\n",
      "\n"
     ]
    }
   ],
   "source": [
    "df_processed.printSchema()"
   ]
  },
  {
   "cell_type": "code",
   "execution_count": 10,
   "metadata": {},
   "outputs": [
    {
     "name": "stdout",
     "output_type": "stream",
     "text": [
      "total de registros: 7\n"
     ]
    }
   ],
   "source": [
    "print(\"total de registros: \" + str(df.count()))"
   ]
  },
  {
   "cell_type": "code",
   "execution_count": 11,
   "metadata": {},
   "outputs": [],
   "source": [
    "ds = (\n",
    "    df_processed.select(to_json(struct(\"*\")).alias(\"value\"))\n",
    "    .selectExpr(\"CAST(value AS STRING)\")\n",
    "    .write.format(\"kafka\")\n",
    "    .option(\"kafka.bootstrap.servers\", \"broker:29092\")\n",
    "    .option(\"topic\", \"topic2\")\n",
    "    .save()\n",
    ")"
   ]
  },
  {
   "cell_type": "code",
   "execution_count": 12,
   "metadata": {},
   "outputs": [
    {
     "ename": "NameError",
     "evalue": "name 'json_df' is not defined",
     "output_type": "error",
     "traceback": [
      "\u001b[0;31m---------------------------------------------------------------------------\u001b[0m",
      "\u001b[0;31mNameError\u001b[0m                                 Traceback (most recent call last)",
      "Cell \u001b[0;32mIn[12], line 1\u001b[0m\n\u001b[0;32m----> 1\u001b[0m js \u001b[38;5;241m=\u001b[39m json\u001b[38;5;241m.\u001b[39mloads(\u001b[43mjson_df\u001b[49m\u001b[38;5;241m.\u001b[39mcollect()[\u001b[38;5;241m0\u001b[39m][\u001b[38;5;241m0\u001b[39m])\n\u001b[1;32m      2\u001b[0m \u001b[38;5;28mprint\u001b[39m(js)\n\u001b[1;32m      3\u001b[0m avro_schema1 \u001b[38;5;241m=\u001b[39m generate_avro_schema_from_json(js)\n",
      "\u001b[0;31mNameError\u001b[0m: name 'json_df' is not defined"
     ]
    }
   ],
   "source": [
    "js = json.loads(json_df.collect()[0][0])\n",
    "print(js)\n",
    "avro_schema1 = generate_avro_schema_from_json(js)\n",
    "avro_schema = get_avro_schema(df, \"record\", \"Default_schema\", \"Default_namespace\")\n",
    "avro_schema1"
   ]
  },
  {
   "cell_type": "code",
   "execution_count": null,
   "metadata": {},
   "outputs": [],
   "source": [
    "df_processed.collect()"
   ]
  },
  {
   "cell_type": "code",
   "execution_count": null,
   "metadata": {},
   "outputs": [],
   "source": [
    "ttt = df_processed.select(to_avro(col(\"id\")).alias(\"key\"))\n",
    "ttt.collect()"
   ]
  },
  {
   "cell_type": "code",
   "execution_count": null,
   "metadata": {},
   "outputs": [],
   "source": [
    "df_transformed = df.select(to_json(struct(\"*\")).alias(\"value\")).selectExpr(\"CAST(value AS STRING)\")"
   ]
  },
  {
   "cell_type": "code",
   "execution_count": null,
   "metadata": {},
   "outputs": [],
   "source": [
    "df_transformed.show()"
   ]
  },
  {
   "cell_type": "code",
   "execution_count": null,
   "metadata": {},
   "outputs": [],
   "source": [
    "avroDf = df_transformed.select(to_avro(df_transformed.value).alias(\"avro\"))"
   ]
  },
  {
   "cell_type": "code",
   "execution_count": null,
   "metadata": {},
   "outputs": [],
   "source": [
    "avroDf.collect()"
   ]
  },
  {
   "cell_type": "code",
   "execution_count": null,
   "metadata": {},
   "outputs": [],
   "source": [
    "json_df = df.select(to_json(struct(df.columns)).alias(\"value\"))\n",
    "json_df.show()"
   ]
  },
  {
   "cell_type": "code",
   "execution_count": null,
   "metadata": {},
   "outputs": [],
   "source": [
    "df_avro = json_df.select(to_avro(to_json(struct(\"value\"), avro_schema1)).alias(\"value\"))\n",
    "df_avro.collect()"
   ]
  },
  {
   "cell_type": "code",
   "execution_count": null,
   "metadata": {},
   "outputs": [],
   "source": [
    "t = json_df.select(to_json(struct(\"*\")).alias(\"value\")).selectExpr(\"CAST(value AS STRING)\")\n",
    "t.show()"
   ]
  },
  {
   "cell_type": "code",
   "execution_count": null,
   "metadata": {},
   "outputs": [],
   "source": [
    "ds1 = (\n",
    "    df_avro\n",
    "    .write.format(\"kafka\")\n",
    "    .option(\"kafka.bootstrap.servers\", \"broker:29092\")\n",
    "    .option(\"topic\", \"topic2\")\n",
    "    .save()\n",
    ")"
   ]
  },
  {
   "cell_type": "code",
   "execution_count": null,
   "metadata": {},
   "outputs": [],
   "source": []
  }
 ],
 "metadata": {
  "kernelspec": {
   "display_name": "Python 3 (ipykernel)",
   "language": "python",
   "name": "python3"
  },
  "language_info": {
   "codemirror_mode": {
    "name": "ipython",
    "version": 3
   },
   "file_extension": ".py",
   "mimetype": "text/x-python",
   "name": "python",
   "nbconvert_exporter": "python",
   "pygments_lexer": "ipython3",
   "version": "3.11.6"
  }
 },
 "nbformat": 4,
 "nbformat_minor": 4
}
