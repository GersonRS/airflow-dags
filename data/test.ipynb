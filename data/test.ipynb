{
 "cells": [
  {
   "cell_type": "code",
   "execution_count": 1,
   "metadata": {},
   "outputs": [],
   "source": [
    "# import libraries\n",
    "import json\n",
    "\n",
    "from pyspark import SparkConf\n",
    "from pyspark.sql import SparkSession\n",
    "from pyspark.sql.avro.functions import from_avro, to_avro\n",
    "from pyspark.sql.functions import col, current_timestamp, struct, to_json, lit"
   ]
  },
  {
   "cell_type": "code",
   "execution_count": 2,
   "metadata": {},
   "outputs": [],
   "source": [
    "# init session\n",
    "spark = (\n",
    "    SparkSession.builder.appName(\"delivery-data-from-sap-hana-to-kafka\")\n",
    "    .config(\n",
    "        \"spark.jars.packages\",\n",
    "        \"org.postgresql:postgresql:42.7.1,\"\n",
    "        + \"com.sap.cloud.db.jdbc:ngdbc:2.19.15,\"\n",
    "        + \"com.oracle.database.jdbc:ojdbc8:23.3.0.23.09,\"\n",
    "        + \"org.apache.spark:spark-sql-kafka-0-10_2.12:3.5.0\",\n",
    "    )\n",
    "    .enableHiveSupport()\n",
    "    .getOrCreate()\n",
    ")"
   ]
  },
  {
   "cell_type": "code",
   "execution_count": 3,
   "metadata": {},
   "outputs": [
    {
     "data": {
      "text/plain": [
       "[('spark.jars',\n",
       "  'file:///home/jovyan/.ivy2/jars/org.postgresql_postgresql-42.7.1.jar,file:///home/jovyan/.ivy2/jars/com.sap.cloud.db.jdbc_ngdbc-2.19.15.jar,file:///home/jovyan/.ivy2/jars/com.oracle.database.jdbc_ojdbc8-23.3.0.23.09.jar,file:///home/jovyan/.ivy2/jars/org.apache.spark_spark-sql-kafka-0-10_2.12-3.5.0.jar,file:///home/jovyan/.ivy2/jars/org.checkerframework_checker-qual-3.41.0.jar,file:///home/jovyan/.ivy2/jars/org.apache.spark_spark-token-provider-kafka-0-10_2.12-3.5.0.jar,file:///home/jovyan/.ivy2/jars/org.apache.kafka_kafka-clients-3.4.1.jar,file:///home/jovyan/.ivy2/jars/com.google.code.findbugs_jsr305-3.0.0.jar,file:///home/jovyan/.ivy2/jars/org.apache.commons_commons-pool2-2.11.1.jar,file:///home/jovyan/.ivy2/jars/org.apache.hadoop_hadoop-client-runtime-3.3.4.jar,file:///home/jovyan/.ivy2/jars/org.lz4_lz4-java-1.8.0.jar,file:///home/jovyan/.ivy2/jars/org.xerial.snappy_snappy-java-1.1.10.3.jar,file:///home/jovyan/.ivy2/jars/org.slf4j_slf4j-api-2.0.7.jar,file:///home/jovyan/.ivy2/jars/org.apache.hadoop_hadoop-client-api-3.3.4.jar,file:///home/jovyan/.ivy2/jars/commons-logging_commons-logging-1.1.3.jar'),\n",
       " ('spark.sql.catalogImplementation', 'hive'),\n",
       " ('spark.repl.local.jars',\n",
       "  'file:///home/jovyan/.ivy2/jars/org.postgresql_postgresql-42.7.1.jar,file:///home/jovyan/.ivy2/jars/com.sap.cloud.db.jdbc_ngdbc-2.19.15.jar,file:///home/jovyan/.ivy2/jars/com.oracle.database.jdbc_ojdbc8-23.3.0.23.09.jar,file:///home/jovyan/.ivy2/jars/org.apache.spark_spark-sql-kafka-0-10_2.12-3.5.0.jar,file:///home/jovyan/.ivy2/jars/org.checkerframework_checker-qual-3.41.0.jar,file:///home/jovyan/.ivy2/jars/org.apache.spark_spark-token-provider-kafka-0-10_2.12-3.5.0.jar,file:///home/jovyan/.ivy2/jars/org.apache.kafka_kafka-clients-3.4.1.jar,file:///home/jovyan/.ivy2/jars/com.google.code.findbugs_jsr305-3.0.0.jar,file:///home/jovyan/.ivy2/jars/org.apache.commons_commons-pool2-2.11.1.jar,file:///home/jovyan/.ivy2/jars/org.apache.hadoop_hadoop-client-runtime-3.3.4.jar,file:///home/jovyan/.ivy2/jars/org.lz4_lz4-java-1.8.0.jar,file:///home/jovyan/.ivy2/jars/org.xerial.snappy_snappy-java-1.1.10.3.jar,file:///home/jovyan/.ivy2/jars/org.slf4j_slf4j-api-2.0.7.jar,file:///home/jovyan/.ivy2/jars/org.apache.hadoop_hadoop-client-api-3.3.4.jar,file:///home/jovyan/.ivy2/jars/commons-logging_commons-logging-1.1.3.jar'),\n",
       " ('spark.app.submitTime', '1703104343347'),\n",
       " ('spark.master', 'local[*]'),\n",
       " ('spark.submit.deployMode', 'client'),\n",
       " ('spark.submit.pyFiles',\n",
       "  '/home/jovyan/.ivy2/jars/org.postgresql_postgresql-42.7.1.jar,/home/jovyan/.ivy2/jars/com.sap.cloud.db.jdbc_ngdbc-2.19.15.jar,/home/jovyan/.ivy2/jars/com.oracle.database.jdbc_ojdbc8-23.3.0.23.09.jar,/home/jovyan/.ivy2/jars/org.apache.spark_spark-sql-kafka-0-10_2.12-3.5.0.jar,/home/jovyan/.ivy2/jars/org.checkerframework_checker-qual-3.41.0.jar,/home/jovyan/.ivy2/jars/org.apache.spark_spark-token-provider-kafka-0-10_2.12-3.5.0.jar,/home/jovyan/.ivy2/jars/org.apache.kafka_kafka-clients-3.4.1.jar,/home/jovyan/.ivy2/jars/com.google.code.findbugs_jsr305-3.0.0.jar,/home/jovyan/.ivy2/jars/org.apache.commons_commons-pool2-2.11.1.jar,/home/jovyan/.ivy2/jars/org.apache.hadoop_hadoop-client-runtime-3.3.4.jar,/home/jovyan/.ivy2/jars/org.lz4_lz4-java-1.8.0.jar,/home/jovyan/.ivy2/jars/org.xerial.snappy_snappy-java-1.1.10.3.jar,/home/jovyan/.ivy2/jars/org.slf4j_slf4j-api-2.0.7.jar,/home/jovyan/.ivy2/jars/org.apache.hadoop_hadoop-client-api-3.3.4.jar,/home/jovyan/.ivy2/jars/commons-logging_commons-logging-1.1.3.jar'),\n",
       " ('spark.jars.packages',\n",
       "  'org.postgresql:postgresql:42.7.1,com.sap.cloud.db.jdbc:ngdbc:2.19.15,com.oracle.database.jdbc:ojdbc8:23.3.0.23.09,org.apache.spark:spark-sql-kafka-0-10_2.12:3.5.0'),\n",
       " ('spark.app.name', 'delivery-data-from-sap-hana-to-kafka'),\n",
       " ('spark.ui.showConsoleProgress', 'true'),\n",
       " ('spark.files',\n",
       "  'file:///home/jovyan/.ivy2/jars/org.postgresql_postgresql-42.7.1.jar,file:///home/jovyan/.ivy2/jars/com.sap.cloud.db.jdbc_ngdbc-2.19.15.jar,file:///home/jovyan/.ivy2/jars/com.oracle.database.jdbc_ojdbc8-23.3.0.23.09.jar,file:///home/jovyan/.ivy2/jars/org.apache.spark_spark-sql-kafka-0-10_2.12-3.5.0.jar,file:///home/jovyan/.ivy2/jars/org.checkerframework_checker-qual-3.41.0.jar,file:///home/jovyan/.ivy2/jars/org.apache.spark_spark-token-provider-kafka-0-10_2.12-3.5.0.jar,file:///home/jovyan/.ivy2/jars/org.apache.kafka_kafka-clients-3.4.1.jar,file:///home/jovyan/.ivy2/jars/com.google.code.findbugs_jsr305-3.0.0.jar,file:///home/jovyan/.ivy2/jars/org.apache.commons_commons-pool2-2.11.1.jar,file:///home/jovyan/.ivy2/jars/org.apache.hadoop_hadoop-client-runtime-3.3.4.jar,file:///home/jovyan/.ivy2/jars/org.lz4_lz4-java-1.8.0.jar,file:///home/jovyan/.ivy2/jars/org.xerial.snappy_snappy-java-1.1.10.3.jar,file:///home/jovyan/.ivy2/jars/org.slf4j_slf4j-api-2.0.7.jar,file:///home/jovyan/.ivy2/jars/org.apache.hadoop_hadoop-client-api-3.3.4.jar,file:///home/jovyan/.ivy2/jars/commons-logging_commons-logging-1.1.3.jar')]"
      ]
     },
     "execution_count": 3,
     "metadata": {},
     "output_type": "execute_result"
    }
   ],
   "source": [
    "# show configured parameters\n",
    "SparkConf().getAll()"
   ]
  },
  {
   "cell_type": "code",
   "execution_count": 4,
   "metadata": {},
   "outputs": [],
   "source": [
    "# set log level\n",
    "spark.sparkContext.setLogLevel(\"INFO\")"
   ]
  },
  {
   "cell_type": "code",
   "execution_count": 5,
   "metadata": {},
   "outputs": [],
   "source": [
    "df = (\n",
    "    spark.read.format(\"jdbc\")\n",
    "    .option(\"driver\", \"org.postgresql.Driver\")\n",
    "    .option(\"url\", \"jdbc:postgresql://database:5432/database\")\n",
    "    .option(\"dbtable\", \"company\")\n",
    "    .option(\"user\", \"postgres\")\n",
    "    .option(\"password\", \"postgres\")\n",
    "    .load()\n",
    ")"
   ]
  },
  {
   "cell_type": "code",
   "execution_count": 6,
   "metadata": {},
   "outputs": [],
   "source": [
    "# df = (\n",
    "#     spark.read.format(\"jdbc\")\n",
    "#     .option(\"driver\", \"com.sap.db.jdbc.Driver\")\n",
    "#     .option(\"url\", \"jdbc:sap://10.163.9.4:30041/HAQ\")\n",
    "#     .option(\"dbtable\", \"SAPHANADB.CRCO\")\n",
    "#     .option(\"user\", \"SYNAPSE_READ\")\n",
    "#     .option(\"password\", \"Syn@ps322SAP22\")\n",
    "#     .load()\n",
    "# )"
   ]
  },
  {
   "cell_type": "code",
   "execution_count": 7,
   "metadata": {},
   "outputs": [],
   "source": [
    "df_processed = (\n",
    "    df.withColumn(\"ingestion_time\", lit(current_timestamp()))\n",
    "    .withColumn(\"source_system\", lit(\"sap\"))\n",
    "    .withColumn(\"user_name\", lit(\"gersonrs\"))\n",
    "    .withColumn(\"ingestion_type\", lit(\"spark\"))\n",
    "    .withColumn(\"base_format\", lit(\"table\"))\n",
    "    .withColumn(\"rows_written\", lit(df.count()))\n",
    "    .withColumn(\"schema\", lit(df.schema.json()))\n",
    ")"
   ]
  },
  {
   "cell_type": "code",
   "execution_count": 8,
   "metadata": {},
   "outputs": [
    {
     "name": "stdout",
     "output_type": "stream",
     "text": [
      "root\n",
      " |-- id: integer (nullable = true)\n",
      " |-- name: string (nullable = true)\n",
      " |-- age: integer (nullable = true)\n",
      " |-- address: string (nullable = true)\n",
      " |-- salary: float (nullable = true)\n",
      " |-- ingestion_time: timestamp (nullable = false)\n",
      " |-- source_system: string (nullable = false)\n",
      " |-- user_name: string (nullable = false)\n",
      " |-- ingestion_type: string (nullable = false)\n",
      " |-- base_format: string (nullable = false)\n",
      " |-- rows_written: integer (nullable = false)\n",
      " |-- schema: string (nullable = false)\n",
      "\n"
     ]
    }
   ],
   "source": [
    "df_processed.printSchema()"
   ]
  },
  {
   "cell_type": "code",
   "execution_count": 9,
   "metadata": {},
   "outputs": [
    {
     "data": {
      "text/plain": [
       "7"
      ]
     },
     "execution_count": 9,
     "metadata": {},
     "output_type": "execute_result"
    }
   ],
   "source": [
    "df_processed.count()"
   ]
  },
  {
   "cell_type": "code",
   "execution_count": 10,
   "metadata": {},
   "outputs": [],
   "source": [
    "(\n",
    "    df_processed.select(to_json(struct(\"*\")).alias(\"value\"))\n",
    "    .selectExpr(\"CAST(value AS STRING)\")\n",
    "    .write.format(\"kafka\")\n",
    "    .option(\"kafka.bootstrap.servers\", \"broker:29092\")\n",
    "    .option(\"topic\", \"topic2\")\n",
    "    .save()\n",
    ")"
   ]
  },
  {
   "cell_type": "code",
   "execution_count": null,
   "metadata": {},
   "outputs": [],
   "source": []
  },
  {
   "cell_type": "code",
   "execution_count": null,
   "metadata": {},
   "outputs": [],
   "source": []
  }
 ],
 "metadata": {
  "kernelspec": {
   "display_name": "Python 3 (ipykernel)",
   "language": "python",
   "name": "python3"
  },
  "language_info": {
   "codemirror_mode": {
    "name": "ipython",
    "version": 3
   },
   "file_extension": ".py",
   "mimetype": "text/x-python",
   "name": "python",
   "nbconvert_exporter": "python",
   "pygments_lexer": "ipython3",
   "version": "3.11.6"
  }
 },
 "nbformat": 4,
 "nbformat_minor": 4
}
